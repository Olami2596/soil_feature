{
 "cells": [
  {
   "cell_type": "markdown",
   "id": "d3d001b0-2e2f-4b58-8442-99520bad831f",
   "metadata": {},
   "source": [
    "# Sowing Success: How Machine Learning Helps Farmers Select the Best Crops\n",
    "\n",
    "![Farmer in a field](farmer_in_a_field.jpg)\n",
    "\n",
    "Measuring essential soil metrics such as nitrogen, phosphorous, potassium levels, and pH value is an important aspect of assessing soil condition. However, it can be an expensive and time-consuming process, which can cause farmers to prioritize which metrics to measure based on their budget constraints.\n",
    "\n",
    "Farmers have various options when it comes to deciding which crop to plant each season. Their primary objective is to maximize the yield of their crops, taking into account different factors. One crucial factor that affects crop growth is the condition of the soil in the field, which can be assessed by measuring basic elements such as nitrogen and potassium levels. Each crop has an ideal soil condition that ensures optimal growth and maximum yield.\n",
    "\n",
    "A farmer reached out to you as a machine learning expert for assistance in selecting the best crop for his field. They've provided you with a dataset called `soil_measures.csv`, which contains:\n",
    "\n",
    "- `\"N\"`: Nitrogen content ratio in the soil\n",
    "- `\"P\"`: Phosphorous content ratio in the soil\n",
    "- `\"K\"`: Potassium content ratio in the soil\n",
    "- `\"pH\"` value of the soil\n",
    "- `\"crop\"`: categorical values that contain various crops (target variable).\n",
    "\n",
    "Each row in this dataset represents various measures of the soil in a particular field. Based on these measurements, the crop specified in the `\"crop\"` column is the optimal choice for that field.  \n",
    "\n",
    "In this project, you will build multi-class classification models to predict the type of `\"crop\"` and identify the single most importance feature for predictive performance."
   ]
  },
  {
   "cell_type": "code",
   "execution_count": 1,
   "id": "d0eb4f16-5a99-460d-a5ba-706b7ef0bbe7",
   "metadata": {
    "executionCancelledAt": null,
    "executionTime": 15,
    "id": "bA5ajAmk7XH6",
    "lastExecutedAt": 1735330487159,
    "lastExecutedByKernel": "6e28d7e0-276c-450b-8ff8-869f1d1b011b",
    "lastScheduledRunId": null,
    "lastSuccessfullyExecutedCode": "# All required libraries are imported here for you.\nimport pandas as pd\nfrom sklearn.linear_model import LogisticRegression\nfrom sklearn.model_selection import train_test_split\nfrom sklearn import metrics\n\n# Load the dataset\ncrops = pd.read_csv(\"soil_measures.csv\")\n\n# Write your code here"
   },
   "outputs": [],
   "source": [
    "import pandas as pd\n",
    "from sklearn.model_selection import train_test_split\n",
    "from sklearn.tree import DecisionTreeClassifier\n",
    "from sklearn.metrics import accuracy_score\n",
    "\n",
    "crops = pd.read_csv(\"soil_measures.csv\")"
   ]
  },
  {
   "cell_type": "code",
   "execution_count": 2,
   "id": "17010fd7-15c7-4460-a0b4-60ea5f923e1e",
   "metadata": {
    "executionCancelledAt": null,
    "executionTime": 50,
    "lastExecutedAt": 1735330487209,
    "lastExecutedByKernel": "6e28d7e0-276c-450b-8ff8-869f1d1b011b",
    "lastScheduledRunId": null,
    "lastSuccessfullyExecutedCode": "# Check for missing values\ncrops.isna().sum()",
    "outputsMetadata": {
     "0": {
      "height": 550,
      "tableState": {
       "quickFilterText": ""
      },
      "type": "dataFrame"
     }
    }
   },
   "outputs": [
    {
     "data": {
      "text/plain": [
       "N       0\n",
       "P       0\n",
       "K       0\n",
       "ph      0\n",
       "crop    0\n",
       "dtype: int64"
      ]
     },
     "execution_count": 2,
     "metadata": {},
     "output_type": "execute_result"
    }
   ],
   "source": [
    "# Check for missing values\n",
    "crops.isna().sum()"
   ]
  },
  {
   "cell_type": "code",
   "execution_count": null,
   "id": "a2f8c3cc-609c-4f5f-86cf-ee9c479a1120",
   "metadata": {
    "executionCancelledAt": null,
    "executionTime": 48,
    "lastExecutedAt": 1735330487257,
    "lastExecutedByKernel": "6e28d7e0-276c-450b-8ff8-869f1d1b011b",
    "lastScheduledRunId": null,
    "lastSuccessfullyExecutedCode": "\n\n# Check how many crops we have, i.e., multi-class target\ncrops.crop.unique()"
   },
   "outputs": [
    {
     "data": {
      "text/plain": [
       "array(['rice', 'maize', 'chickpea', 'kidneybeans', 'pigeonpeas',\n",
       "       'mothbeans', 'mungbean', 'blackgram', 'lentil', 'pomegranate',\n",
       "       'banana', 'mango', 'grapes', 'watermelon', 'muskmelon', 'apple',\n",
       "       'orange', 'papaya', 'coconut', 'cotton', 'jute', 'coffee'],\n",
       "      dtype=object)"
      ]
     },
     "execution_count": 3,
     "metadata": {},
     "output_type": "execute_result"
    }
   ],
   "source": [
    "# Check how many crops we have, \n",
    "crops.crop.unique()"
   ]
  },
  {
   "cell_type": "code",
   "execution_count": 4,
   "id": "cc066233-d7fe-468a-8728-9a16128e2e85",
   "metadata": {
    "executionCancelledAt": null,
    "executionTime": 51,
    "lastExecutedAt": 1735330487308,
    "lastExecutedByKernel": "6e28d7e0-276c-450b-8ff8-869f1d1b011b",
    "lastScheduledRunId": null,
    "lastSuccessfullyExecutedCode": "# Define features and target variable\nfeatures = ['N', 'P', 'K', 'ph']\ntarget = 'crop'\n\n"
   },
   "outputs": [],
   "source": [
    "# Define features and target variable\n",
    "features = ['N', 'P', 'K', 'ph']\n",
    "target = 'crop'\n",
    "\n",
    "X = crops[features]\n",
    "y = crops[target]\n",
    "X_train, X_test, y_train, y_test = train_test_split(X, y, test_size=0.3, random_state=42)"
   ]
  },
  {
   "cell_type": "code",
   "execution_count": null,
   "id": "31993843-f25a-477a-b881-71f59b5aac55",
   "metadata": {
    "executionCancelledAt": null,
    "executionTime": 61,
    "lastExecutedAt": 1735330487417,
    "lastExecutedByKernel": "6e28d7e0-276c-450b-8ff8-869f1d1b011b",
    "lastScheduledRunId": null,
    "lastSuccessfullyExecutedCode": "from sklearn.tree import DecisionTreeClassifier\nfrom sklearn.metrics import accuracy_score\n\n# Evaluate the predictive power of each feature individually\nbest_predictive_feature = {}\nhighest_accuracy = 0\n\nfor feature in features:\n    # Train a simple decision tree model using one feature at a time\n    clf = DecisionTreeClassifier(random_state=42)\n    clf.fit(X_train[[feature]], y_train)\n    \n    # Predict and calculate accuracy\n    y_pred = clf.predict(X_test[[feature]])\n    accuracy = accuracy_score(y_test, y_pred)\n    \n    # Check if this feature has the highest accuracy so far\n    if accuracy > highest_accuracy:\n        highest_accuracy = accuracy\n        best_predictive_feature = {feature: accuracy}\n\nbest_predictive_feature"
   },
   "outputs": [
    {
     "data": {
      "text/plain": [
       "{'K': 0.2909090909090909}"
      ]
     },
     "execution_count": 5,
     "metadata": {},
     "output_type": "execute_result"
    }
   ],
   "source": [
    "best_predictive_feature = {}\n",
    "highest_accuracy = 0\n",
    "\n",
    "for feature in features:\n",
    "    clf = DecisionTreeClassifier(random_state=42)\n",
    "    clf.fit(X_train[[feature]], y_train)\n",
    "    \n",
    "    # Predict and calculate accuracy\n",
    "    y_pred = clf.predict(X_test[[feature]])\n",
    "    accuracy = accuracy_score(y_test, y_pred)\n",
    "    \n",
    "    # Check feature that has the highest accuracy so far\n",
    "    if accuracy > highest_accuracy:\n",
    "        highest_accuracy = accuracy\n",
    "        best_predictive_feature = {feature: accuracy}\n",
    "\n",
    "best_predictive_feature"
   ]
  }
 ],
 "metadata": {
  "colab": {
   "name": "Welcome to DataCamp Workspaces.ipynb",
   "provenance": []
  },
  "kernelspec": {
   "display_name": "new_env",
   "language": "python",
   "name": "python3"
  },
  "language_info": {
   "codemirror_mode": {
    "name": "ipython",
    "version": 3
   },
   "file_extension": ".py",
   "mimetype": "text/x-python",
   "name": "python",
   "nbconvert_exporter": "python",
   "pygments_lexer": "ipython3",
   "version": "3.12.4"
  }
 },
 "nbformat": 4,
 "nbformat_minor": 5
}
